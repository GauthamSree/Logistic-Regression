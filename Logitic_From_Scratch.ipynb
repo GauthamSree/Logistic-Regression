{
 "cells": [
  {
   "cell_type": "code",
   "execution_count": 223,
   "metadata": {},
   "outputs": [],
   "source": [
    "import math\n",
    "import numpy as np\n",
    "import pandas as pd\n",
    "import matplotlib.pyplot as plt\n",
    "import torch\n",
    "from torch.utils.data import Dataset, DataLoader"
   ]
  },
  {
   "cell_type": "markdown",
   "metadata": {},
   "source": [
    "### Dataset"
   ]
  },
  {
   "cell_type": "code",
   "execution_count": 228,
   "metadata": {},
   "outputs": [],
   "source": [
    "class CancerDataset(Dataset):\n",
    "\n",
    "    def __init__(self, dep_var=None, valid=False, test=False):\n",
    "        if valid:\n",
    "            self.df = pd.read_csv('data/valid.csv')\n",
    "        elif test:\n",
    "            self.df = pd.read_csv('data/test.csv')\n",
    "        else:\n",
    "            self.df = pd.read_csv('data/train.csv')\n",
    "        self.dep_var = dep_var\n",
    "        self.classes = self.df[self.dep_var].unique()\n",
    "        self.X = torch.tensor(self.df.drop(self.dep_var, axis=1).values, dtype=torch.float32)\n",
    "        self.y = torch.tensor(self.df[self.dep_var].values)\n",
    "        \n",
    "    \n",
    "    def __len__(self):\n",
    "        return len(self.df)\n",
    "    \n",
    "    def __getitem__(self, index):\n",
    "        return self.X[index], self.y[index]"
   ]
  },
  {
   "cell_type": "code",
   "execution_count": 229,
   "metadata": {},
   "outputs": [],
   "source": [
    "train = CancerDataset(dep_var='diagnosis')\n",
    "valid = CancerDataset(dep_var='diagnosis', valid=True)\n",
    "test = CancerDataset(dep_var='diagnosis', test=True)"
   ]
  },
  {
   "cell_type": "code",
   "execution_count": 282,
   "metadata": {},
   "outputs": [],
   "source": [
    "trainset = DataLoader(train, batch_size=64, shuffle=True)\n",
    "validset = DataLoader(valid, batch_size=64)\n",
    "testset = DataLoader(test, batch_size=64)"
   ]
  },
  {
   "cell_type": "markdown",
   "metadata": {},
   "source": [
    "### Model"
   ]
  },
  {
   "cell_type": "code",
   "execution_count": 231,
   "metadata": {},
   "outputs": [],
   "source": [
    "class Module:\n",
    "    def __call__(self, *args):\n",
    "        self.args = args\n",
    "        self.out = self.forward(*args)\n",
    "        return self.out\n",
    "    \n",
    "    def forward(self): \n",
    "        raise Exception('not implemented')\n",
    "    \n",
    "    def backward(self): \n",
    "        self.bwd(self.out, *self.args)\n",
    "        \n",
    "        \n"
   ]
  },
  {
   "cell_type": "code",
   "execution_count": 233,
   "metadata": {},
   "outputs": [],
   "source": [
    "class Linear(Module):\n",
    "    def __init__(self, m, out):\n",
    "        \n",
    "        self.W = torch.randn(m, out)*math.sqrt(2/(m+out)) #Xavier Intialization\n",
    "        self.b = torch.zeros(out)\n",
    "        \n",
    "    def forward(self, inp): \n",
    "        return inp @ self.W + self.b\n",
    "    \n",
    "    def bwd(self, out, inp):\n",
    "        inp.g = out.g @ self.W.T\n",
    "        self.W.g = inp.T @ out.g\n",
    "        self.b.g = out.g.sum(0)\n",
    "        \n"
   ]
  },
  {
   "cell_type": "code",
   "execution_count": 234,
   "metadata": {},
   "outputs": [],
   "source": [
    "class Sigmoid(Module):\n",
    "    def sigmoid(self, x):\n",
    "        return 1/(1+ torch.exp(-x))    \n",
    "    \n",
    "    def forward(self, x): \n",
    "        return self.sigmoid(x)\n",
    "    \n",
    "    def bwd(self, out, inp): \n",
    "        inp.g = (self.sigmoid(inp)*(1-self.sigmoid(inp))) * out.g\n",
    "        \n"
   ]
  },
  {
   "cell_type": "code",
   "execution_count": 235,
   "metadata": {},
   "outputs": [],
   "source": [
    "class Cross_Entropy(Module):\n",
    "    \n",
    "    def __init__(self, model):\n",
    "        self.model = model\n",
    "\n",
    "    def cross_entropy(self, y_pred, y):\n",
    "        return -(y*torch.log(y_pred) + (1-y)*torch.log(1-y_pred)).mean()\n",
    "    \n",
    "    def forward(self, y_pred, y):\n",
    "        return self.cross_entropy(y_pred.view(-1), y)\n",
    "    \n",
    "    def bwd(self, out, inp, targ):\n",
    "        inp.g = ((1-targ.unsqueeze(-1))/(1-inp) - targ.unsqueeze(-1)/inp)/targ.shape[0]\n",
    "        self.model.backward()\n",
    "\n"
   ]
  },
  {
   "cell_type": "code",
   "execution_count": 236,
   "metadata": {},
   "outputs": [],
   "source": [
    "class SGD:\n",
    "    def __init__(self, model, lr=0.01):\n",
    "        self.lr = lr\n",
    "        self.model = model\n",
    "        \n",
    "    def step(self):\n",
    "        self.model.linear.W -= self.model.linear.W.g * self.lr\n",
    "        self.model.linear.b -= self.model.linear.b.g * self.lr  \n",
    "    \n"
   ]
  },
  {
   "cell_type": "code",
   "execution_count": 237,
   "metadata": {},
   "outputs": [],
   "source": [
    "class LogisticRegression:\n",
    "    \n",
    "    def __init__(self, in_features, out_features):\n",
    "        self.linear = Linear(in_features, out_features)\n",
    "        self.sigmoid = Sigmoid()\n",
    "\n",
    "    def forward(self, x):\n",
    "        return self.sigmoid(self.linear(x))\n",
    "    \n",
    "    def backward(self):\n",
    "        self.sigmoid.backward()\n",
    "        self.linear.backward()\n",
    "\n",
    "    def __call__(self, *args):\n",
    "        self.args = args\n",
    "        self.out = self.forward(*args)\n",
    "        return self.out\n",
    "        "
   ]
  },
  {
   "cell_type": "code",
   "execution_count": 399,
   "metadata": {},
   "outputs": [],
   "source": [
    "model = LogisticRegression(30,1)\n",
    "optimizer = SGD(model, lr=1e-2)\n",
    "loss_func = Cross_Entropy(model)"
   ]
  },
  {
   "cell_type": "code",
   "execution_count": 400,
   "metadata": {},
   "outputs": [],
   "source": [
    "def fit(epochs):\n",
    "    train_loss = []\n",
    "    valid_loss = []\n",
    "    for epoch in range(epochs):\n",
    "        for X, y in trainset:\n",
    "            ## forward pass\n",
    "            output = model(X)\n",
    "            ## Computing loss\n",
    "            loss = loss_func(output, y)\n",
    "            ## Backward pass\n",
    "            loss_func.backward()\n",
    "            ## Updating the parameters\n",
    "            optimizer.step()\n",
    "        train_loss.append(loss)\n",
    "        \n",
    "        ## Validating the model\n",
    "        val_loss= []\n",
    "        for X_val, y_val in validset:\n",
    "            out = model(X_val)\n",
    "            vloss = loss_func(out, y_val)\n",
    "            val_loss.append(vloss)\n",
    "        valid_loss.append(torch.stack(val_loss).mean())\n",
    "        print(f'Epoch : {epoch+1} | Train Loss: {train_loss[epoch]:.4f} | val Loss: {valid_loss[epoch]:.4f}')\n",
    "    return train_loss, valid_loss\n",
    "\n"
   ]
  },
  {
   "cell_type": "code",
   "execution_count": 401,
   "metadata": {},
   "outputs": [
    {
     "name": "stdout",
     "output_type": "stream",
     "text": [
      "Epoch : 1 | Train Loss: 0.4366 | val Loss: 0.5502\n",
      "Epoch : 2 | Train Loss: 0.3691 | val Loss: 0.5065\n",
      "Epoch : 3 | Train Loss: 0.4579 | val Loss: 0.4679\n",
      "Epoch : 4 | Train Loss: 0.3660 | val Loss: 0.4365\n",
      "Epoch : 5 | Train Loss: 0.3806 | val Loss: 0.4075\n",
      "Epoch : 6 | Train Loss: 0.3448 | val Loss: 0.3836\n",
      "Epoch : 7 | Train Loss: 0.3084 | val Loss: 0.3634\n",
      "Epoch : 8 | Train Loss: 0.2513 | val Loss: 0.3453\n",
      "Epoch : 9 | Train Loss: 0.2571 | val Loss: 0.3287\n",
      "Epoch : 10 | Train Loss: 0.3324 | val Loss: 0.3142\n",
      "Epoch : 11 | Train Loss: 0.2158 | val Loss: 0.3012\n",
      "Epoch : 12 | Train Loss: 0.2721 | val Loss: 0.2889\n",
      "Epoch : 13 | Train Loss: 0.2886 | val Loss: 0.2782\n",
      "Epoch : 14 | Train Loss: 0.3231 | val Loss: 0.2680\n",
      "Epoch : 15 | Train Loss: 0.1610 | val Loss: 0.2583\n",
      "Epoch : 16 | Train Loss: 0.1709 | val Loss: 0.2494\n",
      "Epoch : 17 | Train Loss: 0.1885 | val Loss: 0.2410\n",
      "Epoch : 18 | Train Loss: 0.2326 | val Loss: 0.2333\n",
      "Epoch : 19 | Train Loss: 0.1812 | val Loss: 0.2262\n",
      "Epoch : 20 | Train Loss: 0.1839 | val Loss: 0.2195\n",
      "Epoch : 21 | Train Loss: 0.1320 | val Loss: 0.2132\n",
      "Epoch : 22 | Train Loss: 0.2685 | val Loss: 0.2073\n",
      "Epoch : 23 | Train Loss: 0.1507 | val Loss: 0.2020\n",
      "Epoch : 24 | Train Loss: 0.1898 | val Loss: 0.1970\n",
      "Epoch : 25 | Train Loss: 0.2069 | val Loss: 0.1925\n",
      "Epoch : 26 | Train Loss: 0.2646 | val Loss: 0.1884\n",
      "Epoch : 27 | Train Loss: 0.1822 | val Loss: 0.1846\n",
      "Epoch : 28 | Train Loss: 0.1446 | val Loss: 0.1808\n",
      "Epoch : 29 | Train Loss: 0.3111 | val Loss: 0.1774\n",
      "Epoch : 30 | Train Loss: 0.2404 | val Loss: 0.1742\n",
      "Epoch : 31 | Train Loss: 0.2971 | val Loss: 0.1710\n",
      "Epoch : 32 | Train Loss: 0.1492 | val Loss: 0.1682\n",
      "Epoch : 33 | Train Loss: 0.2052 | val Loss: 0.1654\n",
      "Epoch : 34 | Train Loss: 0.1332 | val Loss: 0.1629\n",
      "Epoch : 35 | Train Loss: 0.2321 | val Loss: 0.1603\n",
      "Epoch : 36 | Train Loss: 0.1462 | val Loss: 0.1579\n",
      "Epoch : 37 | Train Loss: 0.0815 | val Loss: 0.1557\n",
      "Epoch : 38 | Train Loss: 0.2157 | val Loss: 0.1536\n",
      "Epoch : 39 | Train Loss: 0.1685 | val Loss: 0.1514\n",
      "Epoch : 40 | Train Loss: 0.2341 | val Loss: 0.1495\n",
      "Epoch : 41 | Train Loss: 0.1418 | val Loss: 0.1475\n",
      "Epoch : 42 | Train Loss: 0.0775 | val Loss: 0.1458\n",
      "Epoch : 43 | Train Loss: 0.1106 | val Loss: 0.1441\n",
      "Epoch : 44 | Train Loss: 0.1945 | val Loss: 0.1423\n",
      "Epoch : 45 | Train Loss: 0.3825 | val Loss: 0.1407\n",
      "Epoch : 46 | Train Loss: 0.1828 | val Loss: 0.1392\n",
      "Epoch : 47 | Train Loss: 0.2002 | val Loss: 0.1377\n",
      "Epoch : 48 | Train Loss: 0.2334 | val Loss: 0.1364\n",
      "Epoch : 49 | Train Loss: 0.1632 | val Loss: 0.1350\n",
      "Epoch : 50 | Train Loss: 0.1129 | val Loss: 0.1336\n",
      "Epoch : 51 | Train Loss: 0.3155 | val Loss: 0.1323\n",
      "Epoch : 52 | Train Loss: 0.1423 | val Loss: 0.1310\n",
      "Epoch : 53 | Train Loss: 0.1409 | val Loss: 0.1298\n",
      "Epoch : 54 | Train Loss: 0.1006 | val Loss: 0.1286\n",
      "Epoch : 55 | Train Loss: 0.0939 | val Loss: 0.1275\n",
      "Epoch : 56 | Train Loss: 0.0752 | val Loss: 0.1264\n",
      "Epoch : 57 | Train Loss: 0.3280 | val Loss: 0.1253\n",
      "Epoch : 58 | Train Loss: 0.0977 | val Loss: 0.1243\n",
      "Epoch : 59 | Train Loss: 0.1233 | val Loss: 0.1232\n",
      "Epoch : 60 | Train Loss: 0.1677 | val Loss: 0.1222\n"
     ]
    }
   ],
   "source": [
    "t_loss, v_loss = fit(60)"
   ]
  },
  {
   "cell_type": "code",
   "execution_count": 411,
   "metadata": {},
   "outputs": [
    {
     "data": {
      "image/png": "[encoded data removed]",
      "text/plain": [
       "<Figure size 432x288 with 1 Axes>"
      ]
     },
     "metadata": {
      "needs_background": "light"
     },
     "output_type": "display_data"
    }
   ],
   "source": [
    "plt.plot(t_loss)\n",
    "plt.plot(v_loss)\n",
    "plt.legend(['train', 'valid'])\n",
    "plt.xlabel('Epoch')\n",
    "plt.ylabel('Loss')\n",
    "plt.title('Loss Graph');"
   ]
  },
  {
   "cell_type": "code",
   "execution_count": 412,
   "metadata": {},
   "outputs": [],
   "source": [
    "def accuracy():\n",
    "    correct = 0.\n",
    "    tot = 0.\n",
    "    for X, y in testset:\n",
    "        out = model(X)\n",
    "        for pred, true in zip(out, y):\n",
    "            if torch.round(pred) ==  true:\n",
    "                correct += 1\n",
    "            tot +=1\n",
    "    acc = round((correct/tot)*100, 3)\n",
    "    return acc"
   ]
  },
  {
   "cell_type": "code",
   "execution_count": 418,
   "metadata": {},
   "outputs": [
    {
     "data": {
      "text/plain": [
       "96.491"
      ]
     },
     "execution_count": 418,
     "metadata": {},
     "output_type": "execute_result"
    }
   ],
   "source": [
    "accuracy()"
   ]
  },
  {
   "cell_type": "code",
   "execution_count": null,
   "metadata": {},
   "outputs": [],
   "source": []
  }
 ],
 "metadata": {
  "kernelspec": {
   "display_name": "Python 3",
   "language": "python",
   "name": "python3"
  },
  "language_info": {
   "codemirror_mode": {
    "name": "ipython",
    "version": 3
   },
   "file_extension": ".py",
   "mimetype": "text/x-python",
   "name": "python",
   "nbconvert_exporter": "python",
   "pygments_lexer": "ipython3",
   "version": "3.7.7"
  }
 },
 "nbformat": 4,
 "nbformat_minor": 4
}
